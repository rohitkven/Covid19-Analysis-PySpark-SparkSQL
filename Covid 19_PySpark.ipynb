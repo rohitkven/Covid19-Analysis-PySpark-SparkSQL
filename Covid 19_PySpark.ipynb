{
 "cells": [
  {
   "cell_type": "code",
   "execution_count": null,
   "id": "02789dc8",
   "metadata": {
    "colab": {
     "referenced_widgets": [
      ""
     ]
    },
    "id": "02789dc8",
    "outputId": "c704f278-6d5e-45c2-b9e7-b8d5b6fd9c29"
   },
   "outputs": [
    {
     "name": "stdout",
     "output_type": "stream",
     "text": [
      "Starting Spark application\n"
     ]
    },
    {
     "data": {
      "text/html": [
       "<table>\n",
       "<tr><th>ID</th><th>YARN Application ID</th><th>Kind</th><th>State</th><th>Spark UI</th><th>Driver log</th><th>User</th><th>Current session?</th></tr><tr><td>18</td><td>application_1681238404028_0075</td><td>pyspark</td><td>idle</td><td><a target=\"_blank\" href=\"http://ip-10-0-15-180.us-west-2.compute.internal:20888/proxy/application_1681238404028_0075/\">Link</a></td><td><a target=\"_blank\" href=\"http://ip-10-0-7-137.us-west-2.compute.internal:8042/node/containerlogs/container_1681238404028_0075_01_000001/livy\">Link</a></td><td>None</td><td>✔</td></tr></table>"
      ],
      "text/plain": [
       "<IPython.core.display.HTML object>"
      ]
     },
     "metadata": {},
     "output_type": "display_data"
    },
    {
     "data": {
      "application/vnd.jupyter.widget-view+json": {
       "model_id": "",
       "version_major": 2,
       "version_minor": 0
      },
      "text/plain": [
       "FloatProgress(value=0.0, bar_style='info', description='Progress:', layout=Layout(height='25px', width='50%'),…"
      ]
     },
     "metadata": {},
     "output_type": "display_data"
    },
    {
     "name": "stdout",
     "output_type": "stream",
     "text": [
      "SparkSession available as 'spark'.\n"
     ]
    },
    {
     "data": {
      "application/vnd.jupyter.widget-view+json": {
       "model_id": "",
       "version_major": 2,
       "version_minor": 0
      },
      "text/plain": [
       "FloatProgress(value=0.0, bar_style='info', description='Progress:', layout=Layout(height='25px', width='50%'),…"
      ]
     },
     "metadata": {},
     "output_type": "display_data"
    }
   ],
   "source": [
    "from pyspark.sql import SparkSession\n",
    "import pyspark.sql.functions as F"
   ]
  },
  {
   "cell_type": "code",
   "execution_count": null,
   "id": "a640535b",
   "metadata": {
    "colab": {
     "referenced_widgets": [
      ""
     ]
    },
    "id": "a640535b",
    "outputId": "4eb5a40a-6996-4fe1-969c-455169babcaf"
   },
   "outputs": [
    {
     "data": {
      "application/vnd.jupyter.widget-view+json": {
       "model_id": "",
       "version_major": 2,
       "version_minor": 0
      },
      "text/plain": [
       "FloatProgress(value=0.0, bar_style='info', description='Progress:', layout=Layout(height='25px', width='50%'),…"
      ]
     },
     "metadata": {},
     "output_type": "display_data"
    }
   ],
   "source": [
    "masks = spark.read.options(header=True).csv('s3://msbx5420-spr23/Team_6/merged_masks_dataset.csv')"
   ]
  },
  {
   "cell_type": "code",
   "execution_count": null,
   "id": "c18a1d04",
   "metadata": {
    "colab": {
     "referenced_widgets": [
      ""
     ]
    },
    "id": "c18a1d04",
    "outputId": "012d14f4-f5b6-4a4b-b9b9-1ad3061aabec"
   },
   "outputs": [
    {
     "data": {
      "application/vnd.jupyter.widget-view+json": {
       "model_id": "",
       "version_major": 2,
       "version_minor": 0
      },
      "text/plain": [
       "FloatProgress(value=0.0, bar_style='info', description='Progress:', layout=Layout(height='25px', width='50%'),…"
      ]
     },
     "metadata": {},
     "output_type": "display_data"
    },
    {
     "name": "stdout",
     "output_type": "stream",
     "text": [
      "+---+--------+-----+------+---------+----------+------+-------------+\n",
      "|_c0|COUNTYFP|NEVER|RARELY|SOMETIMES|FREQUENTLY|ALWAYS|Masked_County|\n",
      "+---+--------+-----+------+---------+----------+------+-------------+\n",
      "|  0|    1001|0.053| 0.074|    0.134|     0.295| 0.444|      Autauga|\n",
      "|  1|    1003|0.083| 0.059|    0.098|     0.323| 0.436|      Baldwin|\n",
      "|  2|    1005|0.067| 0.121|     0.12|     0.201| 0.491|      Barbour|\n",
      "|  3|    1007| 0.02| 0.034|    0.096|     0.278| 0.572|         Bibb|\n",
      "|  4|    1009|0.053| 0.114|     0.18|     0.194| 0.459|       Blount|\n",
      "+---+--------+-----+------+---------+----------+------+-------------+\n",
      "only showing top 5 rows"
     ]
    }
   ],
   "source": [
    "masks.show(5)"
   ]
  },
  {
   "cell_type": "code",
   "execution_count": null,
   "id": "85f25a08",
   "metadata": {
    "colab": {
     "referenced_widgets": [
      ""
     ]
    },
    "id": "85f25a08",
    "outputId": "8c1cc06c-27f2-44a7-e9dd-1667616f2a61"
   },
   "outputs": [
    {
     "data": {
      "application/vnd.jupyter.widget-view+json": {
       "model_id": "",
       "version_major": 2,
       "version_minor": 0
      },
      "text/plain": [
       "FloatProgress(value=0.0, bar_style='info', description='Progress:', layout=Layout(height='25px', width='50%'),…"
      ]
     },
     "metadata": {},
     "output_type": "display_data"
    }
   ],
   "source": [
    "county = spark.read.options(header=True).csv('s3://msbx5420-spr23/Team_6/countries_merged.csv')"
   ]
  },
  {
   "cell_type": "code",
   "execution_count": null,
   "id": "005db0b8",
   "metadata": {
    "colab": {
     "referenced_widgets": [
      ""
     ]
    },
    "id": "005db0b8",
    "outputId": "262e43c6-cd32-4d61-ca30-ff7d825f3920"
   },
   "outputs": [
    {
     "data": {
      "application/vnd.jupyter.widget-view+json": {
       "model_id": "",
       "version_major": 2,
       "version_minor": 0
      },
      "text/plain": [
       "FloatProgress(value=0.0, bar_style='info', description='Progress:', layout=Layout(height='25px', width='50%'),…"
      ]
     },
     "metadata": {},
     "output_type": "display_data"
    }
   ],
   "source": [
    "county2022 = spark.read.options(header=True).csv('s3://msbx5420-spr23/Team_6/us-counties-2022.csv')"
   ]
  },
  {
   "cell_type": "code",
   "execution_count": null,
   "id": "e7bd13e3",
   "metadata": {
    "colab": {
     "referenced_widgets": [
      ""
     ]
    },
    "id": "e7bd13e3",
    "outputId": "be4d30e1-d026-4084-9d88-1df193a092b0"
   },
   "outputs": [
    {
     "data": {
      "application/vnd.jupyter.widget-view+json": {
       "model_id": "",
       "version_major": 2,
       "version_minor": 0
      },
      "text/plain": [
       "FloatProgress(value=0.0, bar_style='info', description='Progress:', layout=Layout(height='25px', width='50%'),…"
      ]
     },
     "metadata": {},
     "output_type": "display_data"
    }
   ],
   "source": [
    "vaccines = spark.read.options(header=True).csv('s3://msbx5420-spr23/Team_6/vaccines.csv')"
   ]
  },
  {
   "cell_type": "code",
   "execution_count": null,
   "id": "8040619b",
   "metadata": {
    "colab": {
     "referenced_widgets": [
      ""
     ]
    },
    "id": "8040619b",
    "outputId": "c97441c0-4a60-4ae8-eae5-96da162bcba6"
   },
   "outputs": [
    {
     "data": {
      "application/vnd.jupyter.widget-view+json": {
       "model_id": "",
       "version_major": 2,
       "version_minor": 0
      },
      "text/plain": [
       "FloatProgress(value=0.0, bar_style='info', description='Progress:', layout=Layout(height='25px', width='50%'),…"
      ]
     },
     "metadata": {},
     "output_type": "display_data"
    }
   ],
   "source": [
    "vaccines_ts = spark.read.options(header=True).csv('s3://msbx5420-spr23/Team_6/vaccines_ts.csv')"
   ]
  },
  {
   "cell_type": "code",
   "execution_count": null,
   "id": "4825e2ce",
   "metadata": {
    "colab": {
     "referenced_widgets": [
      ""
     ]
    },
    "id": "4825e2ce",
    "outputId": "3f22c2e8-0a04-4158-8e55-6628c7b07306"
   },
   "outputs": [
    {
     "data": {
      "application/vnd.jupyter.widget-view+json": {
       "model_id": "",
       "version_major": 2,
       "version_minor": 0
      },
      "text/plain": [
       "FloatProgress(value=0.0, bar_style='info', description='Progress:', layout=Layout(height='25px', width='50%'),…"
      ]
     },
     "metadata": {},
     "output_type": "display_data"
    }
   ],
   "source": [
    "testing = spark.read.options(header=True).csv('s3://msbx5420-spr23/Team_6/testing.csv')"
   ]
  },
  {
   "cell_type": "code",
   "execution_count": null,
   "id": "466f9c06",
   "metadata": {
    "colab": {
     "referenced_widgets": [
      ""
     ]
    },
    "id": "466f9c06",
    "outputId": "cc59fde7-e30d-4edc-9b17-e56de71c9ea5"
   },
   "outputs": [
    {
     "data": {
      "application/vnd.jupyter.widget-view+json": {
       "model_id": "",
       "version_major": 2,
       "version_minor": 0
      },
      "text/plain": [
       "FloatProgress(value=0.0, bar_style='info', description='Progress:', layout=Layout(height='25px', width='50%'),…"
      ]
     },
     "metadata": {},
     "output_type": "display_data"
    }
   ],
   "source": [
    "testing_ts = spark.read.options(header=True).csv('s3://msbx5420-spr23/Team_6/testing_ts.csv')"
   ]
  },
  {
   "cell_type": "code",
   "execution_count": null,
   "id": "3a083d18",
   "metadata": {
    "colab": {
     "referenced_widgets": [
      ""
     ]
    },
    "id": "3a083d18",
    "outputId": "40b3eccb-cd0d-41e9-cdab-bca9736963aa"
   },
   "outputs": [
    {
     "data": {
      "application/vnd.jupyter.widget-view+json": {
       "model_id": "",
       "version_major": 2,
       "version_minor": 0
      },
      "text/plain": [
       "FloatProgress(value=0.0, bar_style='info', description='Progress:', layout=Layout(height='25px', width='50%'),…"
      ]
     },
     "metadata": {},
     "output_type": "display_data"
    }
   ],
   "source": [
    "# Rename the 'Masked County' column to 'county'\n",
    "masks = masks.withColumnRenamed('Masked_County', 'county')\n",
    "masks=masks.withColumnRenamed('COUNTYFP', 'fips')"
   ]
  },
  {
   "cell_type": "code",
   "execution_count": null,
   "id": "6a031ebf",
   "metadata": {
    "colab": {
     "referenced_widgets": [
      ""
     ]
    },
    "id": "6a031ebf",
    "outputId": "d7e65ec0-37da-4ae5-8ed5-6f76c6cd58e7"
   },
   "outputs": [
    {
     "data": {
      "application/vnd.jupyter.widget-view+json": {
       "model_id": "",
       "version_major": 2,
       "version_minor": 0
      },
      "text/plain": [
       "FloatProgress(value=0.0, bar_style='info', description='Progress:', layout=Layout(height='25px', width='50%'),…"
      ]
     },
     "metadata": {},
     "output_type": "display_data"
    },
    {
     "name": "stdout",
     "output_type": "stream",
     "text": [
      "+---+------+-----+------+---------+----------+------+-------+\n",
      "|_c0|  fips|NEVER|RARELY|SOMETIMES|FREQUENTLY|ALWAYS| county|\n",
      "+---+------+-----+------+---------+----------+------+-------+\n",
      "|  0|1001.0|0.053| 0.074|    0.134|     0.295| 0.444|Autauga|\n",
      "|  1|1003.0|0.083| 0.059|    0.098|     0.323| 0.436|Baldwin|\n",
      "|  2|1005.0|0.067| 0.121|     0.12|     0.201| 0.491|Barbour|\n",
      "|  3|1007.0| 0.02| 0.034|    0.096|     0.278| 0.572|   Bibb|\n",
      "|  4|1009.0|0.053| 0.114|     0.18|     0.194| 0.459| Blount|\n",
      "+---+------+-----+------+---------+----------+------+-------+\n",
      "only showing top 5 rows"
     ]
    }
   ],
   "source": [
    "masks.show(5)"
   ]
  },
  {
   "cell_type": "code",
   "execution_count": null,
   "id": "ed4c7c65",
   "metadata": {
    "colab": {
     "referenced_widgets": [
      ""
     ]
    },
    "id": "ed4c7c65",
    "outputId": "04ece500-a626-4ecb-cbf2-bf948d274c09"
   },
   "outputs": [
    {
     "data": {
      "application/vnd.jupyter.widget-view+json": {
       "model_id": "",
       "version_major": 2,
       "version_minor": 0
      },
      "text/plain": [
       "FloatProgress(value=0.0, bar_style='info', description='Progress:', layout=Layout(height='25px', width='50%'),…"
      ]
     },
     "metadata": {},
     "output_type": "display_data"
    },
    {
     "name": "stdout",
     "output_type": "stream",
     "text": [
      "+---+------+-----+------+---------+----------+------+-------+\n",
      "|_c0|  fips|NEVER|RARELY|SOMETIMES|FREQUENTLY|ALWAYS| county|\n",
      "+---+------+-----+------+---------+----------+------+-------+\n",
      "|  0|1001.0|0.053| 0.074|    0.134|     0.295| 0.444|Autauga|\n",
      "|  1|1003.0|0.083| 0.059|    0.098|     0.323| 0.436|Baldwin|\n",
      "|  2|1005.0|0.067| 0.121|     0.12|     0.201| 0.491|Barbour|\n",
      "|  3|1007.0| 0.02| 0.034|    0.096|     0.278| 0.572|   Bibb|\n",
      "|  4|1009.0|0.053| 0.114|     0.18|     0.194| 0.459| Blount|\n",
      "+---+------+-----+------+---------+----------+------+-------+\n",
      "only showing top 5 rows"
     ]
    }
   ],
   "source": [
    "from pyspark.sql.functions import col\n",
    "\n",
    "masks = masks.withColumn(\"fips\", col(\"fips\").cast(\"decimal(10,1)\"))\n",
    "\n",
    "masks.show(5)\n"
   ]
  },
  {
   "cell_type": "code",
   "execution_count": null,
   "id": "8714b288",
   "metadata": {
    "colab": {
     "referenced_widgets": [
      ""
     ]
    },
    "id": "8714b288",
    "outputId": "1ffccaf6-1856-4a62-bcf2-506c124e9847"
   },
   "outputs": [
    {
     "data": {
      "application/vnd.jupyter.widget-view+json": {
       "model_id": "",
       "version_major": 2,
       "version_minor": 0
      },
      "text/plain": [
       "FloatProgress(value=0.0, bar_style='info', description='Progress:', layout=Layout(height='25px', width='50%'),…"
      ]
     },
     "metadata": {},
     "output_type": "display_data"
    },
    {
     "name": "stdout",
     "output_type": "stream",
     "text": [
      "+----------+-------+-------+-----+-----+------+\n",
      "|      date| county|  state| fips|cases|deaths|\n",
      "+----------+-------+-------+-----+-----+------+\n",
      "|2022-01-01|Autauga|Alabama|01001|11018|   160|\n",
      "|2022-01-01|Baldwin|Alabama|01003|39911|   593|\n",
      "|2022-01-01|Barbour|Alabama|01005| 3860|    81|\n",
      "|2022-01-01|   Bibb|Alabama|01007| 4533|    95|\n",
      "|2022-01-01| Blount|Alabama|01009|11256|   198|\n",
      "+----------+-------+-------+-----+-----+------+\n",
      "only showing top 5 rows"
     ]
    }
   ],
   "source": [
    "county2022.show(5)"
   ]
  },
  {
   "cell_type": "code",
   "execution_count": null,
   "id": "f90e89d2",
   "metadata": {
    "colab": {
     "referenced_widgets": [
      ""
     ]
    },
    "id": "f90e89d2",
    "outputId": "d61dea8b-1bea-41f3-e5fc-22fd0fcf7e62"
   },
   "outputs": [
    {
     "data": {
      "application/vnd.jupyter.widget-view+json": {
       "model_id": "",
       "version_major": 2,
       "version_minor": 0
      },
      "text/plain": [
       "FloatProgress(value=0.0, bar_style='info', description='Progress:', layout=Layout(height='25px', width='50%'),…"
      ]
     },
     "metadata": {},
     "output_type": "display_data"
    }
   ],
   "source": [
    "county2022.createOrReplaceTempView(\"county2022\")\n",
    "masks.createOrReplaceTempView(\"masks1\")\n"
   ]
  },
  {
   "cell_type": "code",
   "execution_count": null,
   "id": "ebb985b9",
   "metadata": {
    "colab": {
     "referenced_widgets": [
      ""
     ]
    },
    "id": "ebb985b9",
    "outputId": "8c3eea6a-2352-4570-81b8-ebde83207d40"
   },
   "outputs": [
    {
     "data": {
      "application/vnd.jupyter.widget-view+json": {
       "model_id": "",
       "version_major": 2,
       "version_minor": 0
      },
      "text/plain": [
       "FloatProgress(value=0.0, bar_style='info', description='Progress:', layout=Layout(height='25px', width='50%'),…"
      ]
     },
     "metadata": {},
     "output_type": "display_data"
    },
    {
     "name": "stdout",
     "output_type": "stream",
     "text": [
      "+-------+-------+-----+-----+------+\n",
      "| county|  state| fips|cases|deaths|\n",
      "+-------+-------+-----+-----+------+\n",
      "|Autauga|Alabama|01001|11018|   160|\n",
      "|Baldwin|Alabama|01003|39911|   593|\n",
      "|Barbour|Alabama|01005| 3860|    81|\n",
      "|   Bibb|Alabama|01007| 4533|    95|\n",
      "| Blount|Alabama|01009|11256|   198|\n",
      "+-------+-------+-----+-----+------+\n",
      "only showing top 5 rows"
     ]
    }
   ],
   "source": [
    "\n",
    "county_new = spark.sql(\"SELECT county, state,fips,cases,deaths FROM county2022\")\n",
    "\n",
    "county_new.show(5)\n"
   ]
  },
  {
   "cell_type": "code",
   "execution_count": null,
   "id": "d11ed84a",
   "metadata": {
    "colab": {
     "referenced_widgets": [
      ""
     ]
    },
    "id": "d11ed84a",
    "outputId": "d2b094de-035a-499f-af8e-7662cbdacd73"
   },
   "outputs": [
    {
     "data": {
      "application/vnd.jupyter.widget-view+json": {
       "model_id": "",
       "version_major": 2,
       "version_minor": 0
      },
      "text/plain": [
       "FloatProgress(value=0.0, bar_style='info', description='Progress:', layout=Layout(height='25px', width='50%'),…"
      ]
     },
     "metadata": {},
     "output_type": "display_data"
    },
    {
     "name": "stdout",
     "output_type": "stream",
     "text": [
      "+------+-----+------+---------+----------+------+-------+\n",
      "|  fips|NEVER|RARELY|SOMETIMES|FREQUENTLY|ALWAYS| county|\n",
      "+------+-----+------+---------+----------+------+-------+\n",
      "|1001.0|0.053| 0.074|    0.134|     0.295| 0.444|Autauga|\n",
      "|1003.0|0.083| 0.059|    0.098|     0.323| 0.436|Baldwin|\n",
      "|1005.0|0.067| 0.121|     0.12|     0.201| 0.491|Barbour|\n",
      "|1007.0| 0.02| 0.034|    0.096|     0.278| 0.572|   Bibb|\n",
      "|1009.0|0.053| 0.114|     0.18|     0.194| 0.459| Blount|\n",
      "+------+-----+------+---------+----------+------+-------+\n",
      "only showing top 5 rows"
     ]
    }
   ],
   "source": [
    "\n",
    "mask_new = spark.sql(\"SELECT fips, NEVER,RARELY,SOMETIMES,FREQUENTLY,ALWAYS,county FROM masks1\")\n",
    "\n",
    "mask_new.show(5)\n"
   ]
  },
  {
   "cell_type": "code",
   "execution_count": null,
   "id": "067b7c00",
   "metadata": {
    "colab": {
     "referenced_widgets": [
      ""
     ]
    },
    "id": "067b7c00",
    "outputId": "a470df98-7837-4c32-99c9-93685c0a9871"
   },
   "outputs": [
    {
     "data": {
      "application/vnd.jupyter.widget-view+json": {
       "model_id": "",
       "version_major": 2,
       "version_minor": 0
      },
      "text/plain": [
       "FloatProgress(value=0.0, bar_style='info', description='Progress:', layout=Layout(height='25px', width='50%'),…"
      ]
     },
     "metadata": {},
     "output_type": "display_data"
    },
    {
     "name": "stdout",
     "output_type": "stream",
     "text": [
      "+-----+-----------+------------+\n",
      "| fips|total_cases|total_deaths|\n",
      "+-----+-----------+------------+\n",
      "|05107|  1849072.0|     35661.0|\n",
      "|36067|4.4637119E7|    395597.0|\n",
      "|51063|  1023056.0|     17274.0|\n",
      "|55089|  8771406.0|     66357.0|\n",
      "|31067|  1350700.0|     17668.0|\n",
      "|40079|  4775871.0|     43992.0|\n",
      "|16027|2.2963745E7|    250557.0|\n",
      "|39149|  4238587.0|     68159.0|\n",
      "|08085|  3577309.0|     60278.0|\n",
      "|12067|  1042680.0|     21728.0|\n",
      "|13027|  1304869.0|     31885.0|\n",
      "|40099|  1597144.0|     27561.0|\n",
      "|72153|  2668727.0|        null|\n",
      "|17099|1.1412564E7|    161369.0|\n",
      "|21117|1.7628936E7|    152395.0|\n",
      "|37089|  9835252.0|    115536.0|\n",
      "|54011| 1.065552E7|    139822.0|\n",
      "|12043|   754836.0|     13229.0|\n",
      "|16031|  1847960.0|     19346.0|\n",
      "|22049|  1703573.0|     27756.0|\n",
      "+-----+-----------+------------+\n",
      "only showing top 20 rows"
     ]
    }
   ],
   "source": [
    "# temporary view from county_new\n",
    "county_new.createOrReplaceTempView(\"county_cases_deaths\")\n",
    "\n",
    "# group by county and sum cases and deaths\n",
    "query = \"\"\"\n",
    "        SELECT fips, SUM(cases) AS total_cases, SUM(deaths) AS total_deaths\n",
    "        FROM county_cases_deaths\n",
    "        GROUP BY fips\n",
    "        \"\"\"\n",
    "\n",
    "results = spark.sql(query)\n",
    "\n",
    "results.show()\n"
   ]
  },
  {
   "cell_type": "code",
   "execution_count": null,
   "id": "b43cc61f",
   "metadata": {
    "colab": {
     "referenced_widgets": [
      ""
     ]
    },
    "id": "b43cc61f",
    "outputId": "5e43ec1a-74f0-4554-fa4e-4b37700caed2"
   },
   "outputs": [
    {
     "data": {
      "application/vnd.jupyter.widget-view+json": {
       "model_id": "",
       "version_major": 2,
       "version_minor": 0
      },
      "text/plain": [
       "FloatProgress(value=0.0, bar_style='info', description='Progress:', layout=Layout(height='25px', width='50%'),…"
      ]
     },
     "metadata": {},
     "output_type": "display_data"
    },
    {
     "name": "stdout",
     "output_type": "stream",
     "text": [
      "Row(fips='01001', total_cases=6090102.0, total_deaths=77547.0)"
     ]
    }
   ],
   "source": [
    "#checking\n",
    "\n",
    "Cook = results.filter(results.fips == 1001.0).first()\n",
    "\n",
    "print(Cook)"
   ]
  },
  {
   "cell_type": "code",
   "execution_count": null,
   "id": "4425ee57",
   "metadata": {
    "colab": {
     "referenced_widgets": [
      ""
     ]
    },
    "id": "4425ee57",
    "outputId": "3c6e211d-8207-46a3-beb1-610e32102e28"
   },
   "outputs": [
    {
     "data": {
      "application/vnd.jupyter.widget-view+json": {
       "model_id": "",
       "version_major": 2,
       "version_minor": 0
      },
      "text/plain": [
       "FloatProgress(value=0.0, bar_style='info', description='Progress:', layout=Layout(height='25px', width='50%'),…"
      ]
     },
     "metadata": {},
     "output_type": "display_data"
    },
    {
     "name": "stdout",
     "output_type": "stream",
     "text": [
      "+--------------+-----+------+-----+------+---------+----------+-----------+------------+\n",
      "|        county|NEVER|ALWAYS| fips|Rarely|SOMETIMES|FREQUENTLY|total_cases|total_deaths|\n",
      "+--------------+-----+------+-----+------+---------+----------+-----------+------------+\n",
      "|      Phillips|0.052| 0.477|05107| 0.061|    0.134|     0.276|  1849072.0|     35661.0|\n",
      "|      Onondaga|0.019| 0.756|36067| 0.008|    0.054|     0.163|4.4637119E7|    395597.0|\n",
      "|         Floyd|0.079|  0.51|51063| 0.063|    0.092|     0.256|  1023056.0|     17274.0|\n",
      "|       Ozaukee|0.076|  0.42|55089| 0.113|    0.091|       0.3|  8771406.0|     66357.0|\n",
      "|          Gage|0.127|  0.48|31067|  0.03|    0.103|      0.26|  1350700.0|     17668.0|\n",
      "|      Le Flore|0.142| 0.354|40079| 0.152|    0.156|     0.196|  4775871.0|     43992.0|\n",
      "|        Canyon|0.113| 0.381|16027| 0.095|     0.17|      0.24|2.2963745E7|    250557.0|\n",
      "|        Shelby|0.182|   0.2|39149| 0.119|    0.216|     0.283|  4238587.0|     68159.0|\n",
      "|      Montrose|0.085| 0.436|08085| 0.092|    0.074|     0.314|  3577309.0|     60278.0|\n",
      "|     Lafayette|0.102| 0.389|12067| 0.081|     0.22|     0.208|  1042680.0|     21728.0|\n",
      "|        Brooks|0.092| 0.385|13027| 0.165|    0.124|     0.235|  1304869.0|     31885.0|\n",
      "|        Murray|0.042|  0.34|40099| 0.154|    0.247|     0.218|  1597144.0|     27561.0|\n",
      "|      La Salle|0.018| 0.556|17099| 0.046|    0.113|     0.267|1.1412564E7|    161369.0|\n",
      "|        Kenton|0.052|   0.5|21117| 0.056|    0.146|     0.245|1.7628936E7|    152395.0|\n",
      "|     Henderson|0.014| 0.715|37089| 0.028|    0.042|     0.201|  9835252.0|    115536.0|\n",
      "|        Cabell|0.092| 0.476|54011|  0.09|    0.154|     0.186| 1.065552E7|    139822.0|\n",
      "|        Glades|0.047| 0.677|12043| 0.082|    0.098|     0.096|   754836.0|     13229.0|\n",
      "|        Cassia|0.134| 0.392|16031| 0.223|    0.102|     0.149|  1847960.0|     19346.0|\n",
      "|Jackson Parish|0.116| 0.383|22049| 0.083|    0.127|      0.29|  1703573.0|     27756.0|\n",
      "|        Gaston|0.038| 0.632|37071| 0.079|    0.054|     0.197|2.5266434E7|    309948.0|\n",
      "+--------------+-----+------+-----+------+---------+----------+-----------+------------+\n",
      "only showing top 20 rows"
     ]
    }
   ],
   "source": [
    "#create a view of results and mask_new first\n",
    "results.createOrReplaceTempView(\"results\")\n",
    "mask_new.createOrReplaceTempView(\"mask_new\")\n",
    "#joining with mask_new on county\n",
    "\n",
    "query2=\"\"\"\n",
    "        SELECT mask_new.county, mask_new.NEVER, mask_new.ALWAYS,\n",
    "        results.fips,mask_new.Rarely,mask_new.SOMETIMES,\n",
    "        mask_new.FREQUENTLY,results.total_cases,\n",
    "        results.total_deaths\n",
    "        FROM results\n",
    "        JOIN mask_new\n",
    "        ON mask_new.fips = results.fips\n",
    "        \"\"\"\n",
    "masks_merged_2022 = spark.sql(query2)\n",
    "\n",
    "masks_merged_2022.show()"
   ]
  },
  {
   "cell_type": "code",
   "execution_count": null,
   "id": "2c60611b",
   "metadata": {
    "colab": {
     "referenced_widgets": [
      ""
     ]
    },
    "id": "2c60611b",
    "outputId": "2202e969-bc11-4141-e95e-2cd114d10235"
   },
   "outputs": [
    {
     "data": {
      "application/vnd.jupyter.widget-view+json": {
       "model_id": "",
       "version_major": 2,
       "version_minor": 0
      },
      "text/plain": [
       "FloatProgress(value=0.0, bar_style='info', description='Progress:', layout=Layout(height='25px', width='50%'),…"
      ]
     },
     "metadata": {},
     "output_type": "display_data"
    },
    {
     "name": "stdout",
     "output_type": "stream",
     "text": [
      "Row(county='Cook', NEVER='0.023', ALWAYS='0.722', fips='17031', Rarely='0.021', SOMETIMES='0.072', FREQUENTLY='0.162', total_cases=462654781.0, total_deaths=5448293.0)"
     ]
    }
   ],
   "source": [
    "#checking\n",
    "\n",
    "Cook = masks_merged_2022.filter(masks_merged_2022.fips == 17031.0).first()\n",
    "\n",
    "print(Cook)"
   ]
  },
  {
   "cell_type": "code",
   "execution_count": null,
   "id": "57337c79",
   "metadata": {
    "colab": {
     "referenced_widgets": [
      ""
     ]
    },
    "id": "57337c79",
    "outputId": "c0c0be03-71cb-418a-f248-7cd57803b562"
   },
   "outputs": [
    {
     "data": {
      "application/vnd.jupyter.widget-view+json": {
       "model_id": "",
       "version_major": 2,
       "version_minor": 0
      },
      "text/plain": [
       "FloatProgress(value=0.0, bar_style='info', description='Progress:', layout=Layout(height='25px', width='50%'),…"
      ]
     },
     "metadata": {},
     "output_type": "display_data"
    },
    {
     "name": "stdout",
     "output_type": "stream",
     "text": [
      "+----------+\n",
      "|total_rows|\n",
      "+----------+\n",
      "|      3125|\n",
      "+----------+"
     ]
    }
   ],
   "source": [
    "#checking rows\n",
    "\n",
    "# create a temporary view from the DataFrame\n",
    "masks_merged_2022.createOrReplaceTempView(\"masks_merged_2022\")\n",
    "\n",
    "# count the number of rows\n",
    "query5 = \"\"\"\n",
    "        SELECT COUNT(*) AS total_rows\n",
    "        FROM masks_merged_2022\n",
    "        \"\"\"\n",
    "\n",
    "results1 = spark.sql(query5)\n",
    "\n",
    "# show the result\n",
    "results1.show()\n"
   ]
  },
  {
   "cell_type": "code",
   "execution_count": null,
   "id": "270348d5",
   "metadata": {
    "colab": {
     "referenced_widgets": [
      ""
     ]
    },
    "id": "270348d5",
    "outputId": "3473ac2a-afc3-4788-93f2-93f6979673ca"
   },
   "outputs": [
    {
     "data": {
      "application/vnd.jupyter.widget-view+json": {
       "model_id": "",
       "version_major": 2,
       "version_minor": 0
      },
      "text/plain": [
       "FloatProgress(value=0.0, bar_style='info', description='Progress:', layout=Layout(height='25px', width='50%'),…"
      ]
     },
     "metadata": {},
     "output_type": "display_data"
    },
    {
     "name": "stdout",
     "output_type": "stream",
     "text": [
      "+---------+-----+------+-----------+\n",
      "|   county| fips|ALWAYS|total_cases|\n",
      "+---------+-----+------+-----------+\n",
      "|     Inyo|06027| 0.889|  1794609.0|\n",
      "|    Yates|36123| 0.884|  1370486.0|\n",
      "|     Mono|06051|  0.88|  1182296.0|\n",
      "| Hudspeth|48229|  0.88|   381652.0|\n",
      "|  El Paso|48141| 0.877|8.0223876E7|\n",
      "|Esmeralda|32009| 0.872|    39620.0|\n",
      "| Humboldt|06023| 0.865|  8396023.0|\n",
      "|   Seneca|36099| 0.864|  2359044.0|\n",
      "|  Wyoming|36121| 0.861|  3232217.0|\n",
      "|Hampshire|25015| 0.857|1.1652633E7|\n",
      "+---------+-----+------+-----------+"
     ]
    }
   ],
   "source": [
    "#1A. TOP 5 COUNTIES WITH MASK USAGE ALWAYS\n",
    "\n",
    "query1='''SELECT (county),fips, ALWAYS,\n",
    "total_cases\n",
    "FROM masks_merged_2022\n",
    "ORDER BY ALWAYS DESC\n",
    "LIMIT 10 '''\n",
    "\n",
    "Top_5_always=spark.sql(query1)\n",
    "Top_5_always.show()\n",
    "\n"
   ]
  },
  {
   "cell_type": "code",
   "execution_count": null,
   "id": "1d91e98f",
   "metadata": {
    "colab": {
     "referenced_widgets": [
      ""
     ]
    },
    "id": "1d91e98f",
    "outputId": "1604f84b-db16-40db-cfc9-5ec52c4b0741"
   },
   "outputs": [
    {
     "data": {
      "application/vnd.jupyter.widget-view+json": {
       "model_id": "",
       "version_major": 2,
       "version_minor": 0
      },
      "text/plain": [
       "FloatProgress(value=0.0, bar_style='info', description='Progress:', layout=Layout(height='25px', width='50%'),…"
      ]
     },
     "metadata": {},
     "output_type": "display_data"
    },
    {
     "name": "stdout",
     "output_type": "stream",
     "text": [
      "+---------+-----+-----+-----------+\n",
      "|   county| fips|NEVER|total_cases|\n",
      "+---------+-----+-----+-----------+\n",
      "|  Millard|49027|0.432|  1223021.0|\n",
      "|   Wright|29229|0.419|  1465156.0|\n",
      "|     Cass|19029|0.341|  1097401.0|\n",
      "|     Juab|49023|0.335|  1082649.0|\n",
      "|  Jackson|27063|0.325|   826389.0|\n",
      "|  Laclede|29105|0.313|  3081218.0|\n",
      "| Richland|55103|0.312|  1531896.0|\n",
      "|     Dade|29057|0.312|   555137.0|\n",
      "|    Texas|29215|0.309|  1791190.0|\n",
      "|Box Butte|31013|0.303|   839817.0|\n",
      "+---------+-----+-----+-----------+"
     ]
    }
   ],
   "source": [
    "#1B. TOP 5 COUNTIES WITH MASK USAGE NEVER\n",
    "\n",
    "query1='''SELECT distinct(county),fips, NEVER,\n",
    "total_cases\n",
    "FROM masks_merged_2022\n",
    "ORDER BY NEVER DESC\n",
    "LIMIT 10 '''\n",
    "\n",
    "Top_5_never=spark.sql(query1)\n",
    "Top_5_never.show()\n",
    "\n"
   ]
  },
  {
   "cell_type": "code",
   "execution_count": null,
   "id": "d2596d86",
   "metadata": {
    "colab": {
     "referenced_widgets": [
      ""
     ]
    },
    "id": "d2596d86",
    "outputId": "484d71ee-6050-41f5-851c-bb9fd09ac7d4"
   },
   "outputs": [
    {
     "data": {
      "application/vnd.jupyter.widget-view+json": {
       "model_id": "",
       "version_major": 2,
       "version_minor": 0
      },
      "text/plain": [
       "FloatProgress(value=0.0, bar_style='info', description='Progress:', layout=Layout(height='25px', width='50%'),…"
      ]
     },
     "metadata": {},
     "output_type": "display_data"
    }
   ],
   "source": [
    "#so, now we know top_5_always and Top_5_never -> the corresponding sates on fips are:\n",
    "#always- california,new york,texas,NEVADA,Massachusetts\n",
    "#never- utah,MISSOURI,IOWA,MINNESOTA,Wisconsin\n",
    "#website\n",
    "https://transition.fcc.gov/oet/info/maps/census/fips/fips.txt\n",
    "https://www.smarty.com/articles/county-fips-codes\n"
   ]
  },
  {
   "cell_type": "code",
   "execution_count": null,
   "id": "a382abec",
   "metadata": {
    "colab": {
     "referenced_widgets": [
      ""
     ]
    },
    "id": "a382abec",
    "outputId": "882f3a0d-a000-4ede-ddae-9bdc0b4ecfa4"
   },
   "outputs": [
    {
     "data": {
      "application/vnd.jupyter.widget-view+json": {
       "model_id": "",
       "version_major": 2,
       "version_minor": 0
      },
      "text/plain": [
       "FloatProgress(value=0.0, bar_style='info', description='Progress:', layout=Layout(height='25px', width='50%'),…"
      ]
     },
     "metadata": {},
     "output_type": "display_data"
    },
    {
     "name": "stdout",
     "output_type": "stream",
     "text": [
      "+---+----------+---------+----------+-------+-----+------+\n",
      "|_c0|      date|   county|     state|   fips|cases|deaths|\n",
      "+---+----------+---------+----------+-------+-----+------+\n",
      "|  0|2020-01-21|Snohomish|Washington|53061.0|    1|   0.0|\n",
      "|  1|2020-01-22|Snohomish|Washington|53061.0|    1|   0.0|\n",
      "|  2|2020-01-23|Snohomish|Washington|53061.0|    1|   0.0|\n",
      "|  3|2020-01-24|     Cook|  Illinois|17031.0|    1|   0.0|\n",
      "|  4|2020-01-24|Snohomish|Washington|53061.0|    1|   0.0|\n",
      "+---+----------+---------+----------+-------+-----+------+\n",
      "only showing top 5 rows"
     ]
    }
   ],
   "source": [
    "county.show(5)"
   ]
  },
  {
   "cell_type": "code",
   "execution_count": null,
   "id": "4a8fd1f3",
   "metadata": {
    "colab": {
     "referenced_widgets": [
      ""
     ]
    },
    "id": "4a8fd1f3",
    "outputId": "41052a58-aed2-4521-b830-a63ad20b06ac"
   },
   "outputs": [
    {
     "data": {
      "application/vnd.jupyter.widget-view+json": {
       "model_id": "",
       "version_major": 2,
       "version_minor": 0
      },
      "text/plain": [
       "FloatProgress(value=0.0, bar_style='info', description='Progress:', layout=Layout(height='25px', width='50%'),…"
      ]
     },
     "metadata": {},
     "output_type": "display_data"
    },
    {
     "name": "stdout",
     "output_type": "stream",
     "text": [
      "+-------------+-------------+\n",
      "|        state|  total_cases|\n",
      "+-------------+-------------+\n",
      "|   California|6.315141921E9|\n",
      "|        Texas|4.640986109E9|\n",
      "|     New York|3.481460364E9|\n",
      "|Massachusetts|1.165166465E9|\n",
      "|       Nevada| 5.02276675E8|\n",
      "+-------------+-------------+"
     ]
    }
   ],
   "source": [
    "#now we know the mask usage of these states, we can find out the total deaths in these states during covid from county data\n",
    "#which has information about all the years starting 20-23\n",
    "#2.A\n",
    "\n",
    "county.createOrReplaceTempView(\"county\")\n",
    "\n",
    "query_2='''\n",
    "SELECT state,sum(cases) as total_cases\n",
    "FROM county WHERE state in ('California','New York','Texas','Nevada','Massachusetts')\n",
    "GROUP BY state\n",
    "ORDER BY total_cases DESC\n",
    "'''\n",
    "\n",
    "r2=spark.sql(query_2)\n",
    "r2.show()\n",
    "\n",
    "\n",
    "\n",
    "\n",
    "\n"
   ]
  },
  {
   "cell_type": "code",
   "execution_count": null,
   "id": "f4cd581f",
   "metadata": {
    "colab": {
     "referenced_widgets": [
      ""
     ]
    },
    "id": "f4cd581f",
    "outputId": "3183be09-66e0-453b-c56f-aca3a51e43b8"
   },
   "outputs": [
    {
     "data": {
      "application/vnd.jupyter.widget-view+json": {
       "model_id": "",
       "version_major": 2,
       "version_minor": 0
      },
      "text/plain": [
       "FloatProgress(value=0.0, bar_style='info', description='Progress:', layout=Layout(height='25px', width='50%'),…"
      ]
     },
     "metadata": {},
     "output_type": "display_data"
    },
    {
     "name": "stdout",
     "output_type": "stream",
     "text": [
      "+---------+-------------+\n",
      "|    state|  total_cases|\n",
      "+---------+-------------+\n",
      "|Wisconsin|1.093914775E9|\n",
      "| Missouri| 9.86827551E8|\n",
      "|Minnesota| 9.66074812E8|\n",
      "|     Utah| 6.26051174E8|\n",
      "|     Iowa| 5.33816276E8|\n",
      "+---------+-------------+"
     ]
    }
   ],
   "source": [
    "#2.B\n",
    "query_2b='''\n",
    "SELECT state,sum(cases) as total_cases\n",
    "FROM county WHERE state in ('Utah','Missouri','Iowa','Minnesota','Wisconsin')\n",
    "GROUP BY state\n",
    "ORDER BY total_cases DESC\n",
    "'''\n",
    "\n",
    "r2b=spark.sql(query_2b)\n",
    "r2b.show()\n",
    "\n"
   ]
  },
  {
   "cell_type": "code",
   "execution_count": null,
   "id": "4274fc2f",
   "metadata": {
    "colab": {
     "referenced_widgets": [
      ""
     ]
    },
    "id": "4274fc2f",
    "outputId": "dd2ebe12-cde3-41b6-fb62-0e7bc493df26"
   },
   "outputs": [
    {
     "data": {
      "application/vnd.jupyter.widget-view+json": {
       "model_id": "",
       "version_major": 2,
       "version_minor": 0
      },
      "text/plain": [
       "FloatProgress(value=0.0, bar_style='info', description='Progress:', layout=Layout(height='25px', width='50%'),…"
      ]
     },
     "metadata": {},
     "output_type": "display_data"
    },
    {
     "name": "stdout",
     "output_type": "stream",
     "text": [
      "+---+----------+--------+-----+-----------+------------------------+-----------------------+----------------------+----------+\n",
      "|_c0|      date|     UID|state|Doses_admin|People_at_least_one_dose|People_fully_vaccinated|Total_additional_doses|Year-Month|\n",
      "+---+----------+--------+-----+-----------+------------------------+-----------------------+----------------------+----------+\n",
      "|  7|2020-12-15|84000001|   AL|          0|                       0|                      0|                     0|   2020-12|\n",
      "|  8|2020-12-15|84000002|   AK|          0|                       0|                      0|                     0|   2020-12|\n",
      "| 10|2020-12-15|84000004|   AZ|          0|                       0|                      0|                     0|   2020-12|\n",
      "| 11|2020-12-15|84000005|   AR|          0|                       0|                      0|                     0|   2020-12|\n",
      "| 12|2020-12-15|84000006|   CA|          0|                       0|                      0|                     0|   2020-12|\n",
      "+---+----------+--------+-----+-----------+------------------------+-----------------------+----------------------+----------+\n",
      "only showing top 5 rows"
     ]
    }
   ],
   "source": [
    "vaccines.show(5)"
   ]
  },
  {
   "cell_type": "code",
   "execution_count": null,
   "id": "118fd6ec",
   "metadata": {
    "colab": {
     "referenced_widgets": [
      ""
     ]
    },
    "id": "118fd6ec",
    "outputId": "b100f007-c9c2-4e48-b268-5c9c5c367949"
   },
   "outputs": [
    {
     "data": {
      "application/vnd.jupyter.widget-view+json": {
       "model_id": "",
       "version_major": 2,
       "version_minor": 0
      },
      "text/plain": [
       "FloatProgress(value=0.0, bar_style='info', description='Progress:', layout=Layout(height='25px', width='50%'),…"
      ]
     },
     "metadata": {},
     "output_type": "display_data"
    },
    {
     "name": "stdout",
     "output_type": "stream",
     "text": [
      "+-----+------------------------+-----------------------+----------------------+\n",
      "|STATE|People_at_least_one_dose|People_fully_vaccinated|Total_additional_doses|\n",
      "+-----+------------------------+-----------------------+----------------------+\n",
      "|   CA|         2.1739336624E10|        1.8099778911E10|         6.998552117E9|\n",
      "|   NY|         1.1306820519E10|          9.599891763E9|         3.189838199E9|\n",
      "|   NV|           1.499121096E9|          1.203203664E9|          3.50293322E8|\n",
      "|   TX|         1.3665056832E10|        1.1298390131E10|         3.138696288E9|\n",
      "|   MA|           4.448816023E9|          3.567340941E9|         1.344408597E9|\n",
      "+-----+------------------------+-----------------------+----------------------+"
     ]
    }
   ],
   "source": [
    "#now that we know the states to taget, the vaccination info in these states\n",
    "#3A\n",
    "# Vaccination stats in always\n",
    "\n",
    "vaccines.createOrReplaceTempView(\"vaccines\")\n",
    "\n",
    "query_3='''\n",
    "Select STATE,sum(People_at_least_one_dose) as People_at_least_one_dose, sum(People_fully_vaccinated) as People_fully_vaccinated,\n",
    "sum(Total_additional_doses) as Total_additional_doses\n",
    "FROM vaccines where state in ('CA','NY','TX','NV','MA')\n",
    "GROUP BY state\n",
    "\n",
    "'''\n",
    "\n",
    "r3=spark.sql(query_3)\n",
    "r3.show()\n",
    "\n"
   ]
  },
  {
   "cell_type": "code",
   "execution_count": null,
   "id": "bc387d15",
   "metadata": {
    "colab": {
     "referenced_widgets": [
      ""
     ]
    },
    "id": "bc387d15",
    "outputId": "eaf012e4-e132-4286-c292-fe5b30b824b5"
   },
   "outputs": [
    {
     "data": {
      "application/vnd.jupyter.widget-view+json": {
       "model_id": "",
       "version_major": 2,
       "version_minor": 0
      },
      "text/plain": [
       "FloatProgress(value=0.0, bar_style='info', description='Progress:', layout=Layout(height='25px', width='50%'),…"
      ]
     },
     "metadata": {},
     "output_type": "display_data"
    },
    {
     "name": "stdout",
     "output_type": "stream",
     "text": [
      "+-----+------------------------+-----------------------+----------------------+\n",
      "|STATE|People_at_least_one_dose|People_fully_vaccinated|Total_additional_doses|\n",
      "+-----+------------------------+-----------------------+----------------------+\n",
      "|   MN|           2.830986147E9|          2.535710755E9|         1.085649198E9|\n",
      "|   MO|           2.665068367E9|          2.230027709E9|          7.13309293E8|\n",
      "|   UT|           1.502949464E9|          1.282066678E9|          4.33649355E8|\n",
      "|   IA|           1.437045128E9|          1.286483518E9|          5.00008696E8|\n",
      "|   WY|            2.23074263E8|           1.90882558E8|            6.202376E7|\n",
      "+-----+------------------------+-----------------------+----------------------+"
     ]
    }
   ],
   "source": [
    "#3b\n",
    "## Vaccination stats in never\n",
    "\n",
    "\n",
    "query_3B='''\n",
    "Select STATE,sum(People_at_least_one_dose) as People_at_least_one_dose, sum(People_fully_vaccinated) as People_fully_vaccinated,\n",
    "sum(Total_additional_doses) as Total_additional_doses\n",
    "FROM vaccines where state in ('UT','MO','IA','MN','WY')\n",
    "GROUP BY state\n",
    "\n",
    "'''\n",
    "\n",
    "r3=spark.sql(query_3B)\n",
    "r3.show()\n",
    "\n"
   ]
  },
  {
   "cell_type": "code",
   "execution_count": null,
   "id": "0a837c32",
   "metadata": {
    "colab": {
     "referenced_widgets": [
      ""
     ]
    },
    "id": "0a837c32",
    "outputId": "47826835-5e06-4f42-8484-52b776546a98"
   },
   "outputs": [
    {
     "data": {
      "application/vnd.jupyter.widget-view+json": {
       "model_id": "",
       "version_major": 2,
       "version_minor": 0
      },
      "text/plain": [
       "FloatProgress(value=0.0, bar_style='info', description='Progress:', layout=Layout(height='25px', width='50%'),…"
      ]
     },
     "metadata": {},
     "output_type": "display_data"
    },
    {
     "name": "stdout",
     "output_type": "stream",
     "text": [
      "+---+----------+-----+-------------------+---------------+--------------+--------------------+--------------------+-----------------+----------------------+-------------------+---------------------+------------------+-----------------------+--------------------+----------------------+--------------------+----------+\n",
      "|_c0|      date|state|cases_conf_probable|cases_confirmed|cases_probable|tests_viral_positive|tests_viral_negative|tests_viral_total|tests_antigen_positive|tests_antigen_total|people_viral_positive|people_viral_total|people_antigen_positive|people_antigen_total|encounters_viral_total|tests_combined_total|Year-Month|\n",
      "+---+----------+-----+-------------------+---------------+--------------+--------------------+--------------------+-----------------+----------------------+-------------------+---------------------+------------------+-----------------------+--------------------+----------------------+--------------------+----------+\n",
      "|  0|2020-03-06|   AK|               null|           null|          null|                 0.0|                27.0|             27.0|                  null|               null|                 null|              null|                   null|                null|                  null|                27.0|   2020-03|\n",
      "|  1|2020-03-07|   AK|               null|           null|          null|                 0.0|                32.0|             32.0|                  null|               null|                 null|              null|                   null|                null|                  null|                32.0|   2020-03|\n",
      "|  2|2020-03-08|   AK|               null|           null|          null|                 0.0|                40.0|             40.0|                  null|               null|                 null|              null|                   null|                null|                  null|                40.0|   2020-03|\n",
      "|  3|2020-03-09|   AK|               null|           null|          null|                 0.0|                59.0|             59.0|                  null|               null|                 null|              null|                   null|                null|                  null|                59.0|   2020-03|\n",
      "|  4|2020-03-10|   AK|               null|           null|          null|                 0.0|                76.0|             76.0|                  null|               null|                 null|              null|                   null|                null|                  null|                76.0|   2020-03|\n",
      "+---+----------+-----+-------------------+---------------+--------------+--------------------+--------------------+-----------------+----------------------+-------------------+---------------------+------------------+-----------------------+--------------------+----------------------+--------------------+----------+\n",
      "only showing top 5 rows"
     ]
    }
   ],
   "source": [
    "testing.show(5)"
   ]
  },
  {
   "cell_type": "code",
   "execution_count": null,
   "id": "7b5458b1",
   "metadata": {
    "id": "7b5458b1"
   },
   "outputs": [],
   "source": [
    "# popluation states - cite the website\n",
    "#website\n",
    "https://www.infoplease.com/us/states/state-population-by-rank\n",
    "\n",
    "#top5- california, texas, florida, ny, Pennsylvania\n",
    "#bottom5- South Dakota, North Dakota , Alaska, Vermont, Wyoming"
   ]
  },
  {
   "cell_type": "code",
   "execution_count": null,
   "id": "6f682909",
   "metadata": {
    "id": "6f682909"
   },
   "outputs": [],
   "source": [
    "# 4 #are states with higher population more likely to have positive covid cases than\n",
    "#lower popluation states\n",
    "\n",
    "#cases_conf_probable\tTotal number of confirmed plus probable cases of COVID-19\n",
    "#cases_confirmed\tTotal number of confirmed cases of COVID-19\n"
   ]
  },
  {
   "cell_type": "code",
   "execution_count": null,
   "id": "07034c67",
   "metadata": {
    "colab": {
     "referenced_widgets": [
      ""
     ]
    },
    "id": "07034c67",
    "outputId": "2a55661d-ad1b-4fcc-b187-7ebf0b67871a"
   },
   "outputs": [
    {
     "data": {
      "application/vnd.jupyter.widget-view+json": {
       "model_id": "",
       "version_major": 2,
       "version_minor": 0
      },
      "text/plain": [
       "FloatProgress(value=0.0, bar_style='info', description='Progress:', layout=Layout(height='25px', width='50%'),…"
      ]
     },
     "metadata": {},
     "output_type": "display_data"
    },
    {
     "name": "stdout",
     "output_type": "stream",
     "text": [
      "+-----+---------------------------------------------+-------------------------------+\n",
      "|state|Total_number_of_confirmed_plus_probable_cases|Total_number_of_confirmed_cases|\n",
      "+-----+---------------------------------------------+-------------------------------+\n",
      "|   CA|                                4.057425802E9|                  3.430003197E9|\n",
      "|   TX|                                3.159592232E9|                  2.655780217E9|\n",
      "|   FL|                                2.704239474E9|                  2.392803189E9|\n",
      "|   NY|                                2.275610538E9|                  2.001100925E9|\n",
      "|   PA|                                1.255998863E9|                   9.33781846E8|\n",
      "+-----+---------------------------------------------+-------------------------------+"
     ]
    }
   ],
   "source": [
    "testing.createOrReplaceTempView(\"testing\")\n",
    "\n",
    "query_4='''\n",
    "Select state,sum(cases_conf_probable) as Total_number_of_confirmed_plus_probable_cases,\n",
    "sum(cases_confirmed) as Total_number_of_confirmed_cases\n",
    "from testing where state in ('CA','TX','FL','NY','PA')\n",
    "group by state\n",
    "order by Total_number_of_confirmed_cases DESC\n",
    "'''\n",
    "\n",
    "r4=spark.sql(query_4)\n",
    "r4.show()\n",
    "\n"
   ]
  },
  {
   "cell_type": "code",
   "execution_count": null,
   "id": "251d5ee2",
   "metadata": {
    "colab": {
     "referenced_widgets": [
      ""
     ]
    },
    "id": "251d5ee2",
    "outputId": "d5621ad7-204c-40ef-b4d2-e1d42f8bc453"
   },
   "outputs": [
    {
     "data": {
      "application/vnd.jupyter.widget-view+json": {
       "model_id": "",
       "version_major": 2,
       "version_minor": 0
      },
      "text/plain": [
       "FloatProgress(value=0.0, bar_style='info', description='Progress:', layout=Layout(height='25px', width='50%'),…"
      ]
     },
     "metadata": {},
     "output_type": "display_data"
    },
    {
     "name": "stdout",
     "output_type": "stream",
     "text": [
      "+-----+---------------------------------------------+-------------------------------+\n",
      "|state|Total_number_of_confirmed_plus_probable_cases|Total_number_of_confirmed_cases|\n",
      "+-----+---------------------------------------------+-------------------------------+\n",
      "|   AK|                                  9.9641157E7|                    9.1492992E7|\n",
      "|   ND|                                 1.13894509E8|                    8.9326401E7|\n",
      "|   WY|                                  7.0646809E7|                    5.0131454E7|\n",
      "|   SD|                                 1.17764317E8|                    4.7769808E7|\n",
      "|   VT|                                  4.2947596E7|                    3.8855476E7|\n",
      "+-----+---------------------------------------------+-------------------------------+"
     ]
    }
   ],
   "source": [
    "query_4b='''\n",
    "Select state,sum(cases_conf_probable) as Total_number_of_confirmed_plus_probable_cases,\n",
    "sum(cases_confirmed) as Total_number_of_confirmed_cases\n",
    "from testing where state in ('SD','ND','VT','WY','AK')\n",
    "group by state\n",
    "order by Total_number_of_confirmed_cases DESC\n",
    "'''\n",
    "\n",
    "r4b=spark.sql(query_4b)\n",
    "r4b.show()\n"
   ]
  },
  {
   "cell_type": "code",
   "execution_count": null,
   "id": "74b652ff",
   "metadata": {
    "id": "74b652ff"
   },
   "outputs": [],
   "source": [
    "#do counties that are likely to always use masks more likely to get vaccinated\n",
    "\n",
    "#we know california,new york,texas,NEVADA,Massachusetts\n"
   ]
  },
  {
   "cell_type": "code",
   "execution_count": null,
   "id": "716e8e8f",
   "metadata": {
    "colab": {
     "referenced_widgets": [
      ""
     ]
    },
    "id": "716e8e8f",
    "outputId": "5c0bf8aa-ee44-4b28-b979-4d8389fbaf81"
   },
   "outputs": [
    {
     "data": {
      "application/vnd.jupyter.widget-view+json": {
       "model_id": "",
       "version_major": 2,
       "version_minor": 0
      },
      "text/plain": [
       "FloatProgress(value=0.0, bar_style='info', description='Progress:', layout=Layout(height='25px', width='50%'),…"
      ]
     },
     "metadata": {},
     "output_type": "display_data"
    },
    {
     "name": "stdout",
     "output_type": "stream",
     "text": [
      "+-----+------------------------+-----------------------+----------------------+\n",
      "|STATE|People_at_least_one_dose|People_fully_vaccinated|Total_additional_doses|\n",
      "+-----+------------------------+-----------------------+----------------------+\n",
      "|   CA|         2.1739336624E10|        1.8099778911E10|         6.998552117E9|\n",
      "|   TX|         1.3665056832E10|        1.1298390131E10|         3.138696288E9|\n",
      "|   NY|         1.1306820519E10|          9.599891763E9|         3.189838199E9|\n",
      "|   FL|          1.110466188E10|          9.222697348E9|         2.782865112E9|\n",
      "|   PA|           7.256694193E9|          5.690310025E9|         1.787963704E9|\n",
      "|   IL|           6.472464506E9|          5.515735156E9|         2.145774445E9|\n",
      "|   NC|           5.585409957E9|          4.154159301E9|          8.63868239E8|\n",
      "|   NJ|           5.236572407E9|          4.351213461E9|         1.514477026E9|\n",
      "|   OH|            4.96199902E9|          4.472108598E9|          1.70444591E9|\n",
      "|   VA|           4.768298016E9|          4.007991766E9|         1.441835068E9|\n",
      "+-----+------------------------+-----------------------+----------------------+"
     ]
    }
   ],
   "source": [
    "query_5='''\n",
    "Select STATE,sum(People_at_least_one_dose) as People_at_least_one_dose, sum(People_fully_vaccinated) as People_fully_vaccinated,\n",
    "sum(Total_additional_doses) as Total_additional_doses\n",
    "FROM vaccines\n",
    "GROUP BY state\n",
    "ORDER BY People_at_least_one_dose DESC\n",
    "limit 10\n",
    "\n",
    "'''\n",
    "\n",
    "r5=spark.sql(query_5)\n",
    "r5.show()"
   ]
  },
  {
   "cell_type": "code",
   "execution_count": null,
   "id": "e9091655",
   "metadata": {
    "id": "e9091655"
   },
   "outputs": [],
   "source": [
    "#TIME SERIES ANALYSIS\n"
   ]
  },
  {
   "cell_type": "code",
   "execution_count": null,
   "id": "c5474413",
   "metadata": {
    "colab": {
     "referenced_widgets": [
      ""
     ]
    },
    "id": "c5474413",
    "outputId": "d2f365f9-cb39-4cb0-c520-a5d87084108a"
   },
   "outputs": [
    {
     "data": {
      "application/vnd.jupyter.widget-view+json": {
       "model_id": "",
       "version_major": 2,
       "version_minor": 0
      },
      "text/plain": [
       "FloatProgress(value=0.0, bar_style='info', description='Progress:', layout=Layout(height='25px', width='50%'),…"
      ]
     },
     "metadata": {},
     "output_type": "display_data"
    }
   ],
   "source": [
    "vaccines_ts = vaccines_ts.withColumnRenamed('Year-Month', 'Year_Month')\n",
    "\n",
    "testing_ts = testing_ts.withColumnRenamed('Year-Month', 'Year_Month')\n",
    "\n"
   ]
  },
  {
   "cell_type": "code",
   "execution_count": null,
   "id": "041b34ef",
   "metadata": {
    "id": "041b34ef"
   },
   "outputs": [],
   "source": [
    "vaccines_ts.createOrReplaceTempView(\"vaccines_ts\")\n",
    "testing_ts.createOrReplaceTempView(\"testing_ts\")\n"
   ]
  },
  {
   "cell_type": "code",
   "execution_count": null,
   "id": "75ecedff",
   "metadata": {
    "colab": {
     "referenced_widgets": [
      ""
     ]
    },
    "id": "75ecedff",
    "outputId": "f9cddfd1-462b-4b22-dd35-f34ade77f4d1"
   },
   "outputs": [
    {
     "data": {
      "application/vnd.jupyter.widget-view+json": {
       "model_id": "",
       "version_major": 2,
       "version_minor": 0
      },
      "text/plain": [
       "FloatProgress(value=0.0, bar_style='info', description='Progress:', layout=Layout(height='25px', width='50%'),…"
      ]
     },
     "metadata": {},
     "output_type": "display_data"
    },
    {
     "name": "stdout",
     "output_type": "stream",
     "text": [
      "+-----+----------+------------------------+\n",
      "|state|Year_Month|People_at_least_one_dose|\n",
      "+-----+----------+------------------------+\n",
      "|   MO|   2021-06|             8.0062651E7|\n",
      "|   CT|   2021-12|             9.5547687E7|\n",
      "|   OK|   2021-12|             7.9161288E7|\n",
      "|   SD|   2021-12|             1.8965388E7|\n",
      "|   CA|   2022-03|           1.006651743E9|\n",
      "|   MN|   2023-02|            1.24390853E8|\n",
      "|   SD|   2023-01|             2.2916173E7|\n",
      "|   SD|   2022-05|             2.1071023E7|\n",
      "|   NC|   2021-01|                     0.0|\n",
      "|   NM|   2022-05|             5.7215841E7|\n",
      "|   OR|   2022-10|            1.04601965E8|\n",
      "|   VT|   2021-04|               8245434.0|\n",
      "|   CO|   2021-06|             9.7012104E7|\n",
      "|   NJ|   2022-08|            2.53694874E8|\n",
      "|   NH|   2022-02|             4.0297902E7|\n",
      "|   KS|   2023-01|             6.8632593E7|\n",
      "|   ME|   2020-12|                     0.0|\n",
      "|   GA|   2021-12|            1.97870621E8|\n",
      "|   ND|   2021-09|             1.1363587E7|\n",
      "|   MI|   2022-02|            1.83621137E8|\n",
      "+-----+----------+------------------------+\n",
      "only showing top 20 rows"
     ]
    }
   ],
   "source": [
    "query_a='''\n",
    "select vaccines_ts.state,vaccines_ts.Year_Month,sum(vaccines_ts.People_at_least_one_dose) as People_at_least_one_dose\n",
    "from vaccines_ts\n",
    "group by vaccines_ts.state,vaccines_ts.Year_Month\n",
    "'''\n",
    "v_ts=spark.sql(query_a)\n",
    "v_ts.show()\n"
   ]
  },
  {
   "cell_type": "code",
   "execution_count": null,
   "id": "7f405ff0",
   "metadata": {
    "colab": {
     "referenced_widgets": [
      ""
     ]
    },
    "id": "7f405ff0",
    "outputId": "f85ea0f4-7383-45e0-ba7f-5427ab8a5648"
   },
   "outputs": [
    {
     "data": {
      "application/vnd.jupyter.widget-view+json": {
       "model_id": "",
       "version_major": 2,
       "version_minor": 0
      },
      "text/plain": [
       "FloatProgress(value=0.0, bar_style='info', description='Progress:', layout=Layout(height='25px', width='50%'),…"
      ]
     },
     "metadata": {},
     "output_type": "display_data"
    },
    {
     "name": "stdout",
     "output_type": "stream",
     "text": [
      "+-----+----------+---------------+\n",
      "|state|Year_Month|cases_confirmed|\n",
      "+-----+----------+---------------+\n",
      "|   MO|   2021-06|    1.5519991E7|\n",
      "|   CT|   2021-12|    1.2745545E7|\n",
      "|   OK|   2021-12|    2.1247195E7|\n",
      "|   SD|   2021-12|      4574287.0|\n",
      "|   CA|   2022-03|    2.6166686E8|\n",
      "|   IA|   2020-08|            0.0|\n",
      "|   SD|   2022-05|            0.0|\n",
      "|   DC|   2020-08|            0.0|\n",
      "|   NC|   2021-01|            0.0|\n",
      "|   CO|   2020-06|            0.0|\n",
      "|   NM|   2022-05|    1.6363592E7|\n",
      "|   CO|   2021-06|    1.5407464E7|\n",
      "|   VT|   2021-04|       471505.0|\n",
      "|   NJ|   2022-08|    6.9740842E7|\n",
      "|   NH|   2022-02|      8101597.0|\n",
      "|   NJ|   2020-06|            0.0|\n",
      "|   CA|   2020-08|            0.0|\n",
      "|   ME|   2020-12|            0.0|\n",
      "|   GA|   2021-12|    4.0861697E7|\n",
      "|   ND|   2021-09|      3342296.0|\n",
      "+-----+----------+---------------+\n",
      "only showing top 20 rows"
     ]
    }
   ],
   "source": [
    "query_b='''\n",
    "select testing_ts.state,testing_ts.Year_Month,sum(testing_ts.cases_confirmed) as cases_confirmed\n",
    "from testing_ts\n",
    "group by testing_ts.state,testing_ts.Year_Month\n",
    "'''\n",
    "t_ts=spark.sql(query_b)\n",
    "t_ts.show()"
   ]
  },
  {
   "cell_type": "code",
   "execution_count": null,
   "id": "cd6116c2",
   "metadata": {
    "colab": {
     "referenced_widgets": [
      ""
     ]
    },
    "id": "cd6116c2",
    "outputId": "9414cbb5-ea6e-4962-ff1d-d05787355c93"
   },
   "outputs": [
    {
     "data": {
      "application/vnd.jupyter.widget-view+json": {
       "model_id": "",
       "version_major": 2,
       "version_minor": 0
      },
      "text/plain": [
       "FloatProgress(value=0.0, bar_style='info', description='Progress:', layout=Layout(height='25px', width='50%'),…"
      ]
     },
     "metadata": {},
     "output_type": "display_data"
    },
    {
     "name": "stdout",
     "output_type": "stream",
     "text": [
      "+-----+----------+---------------+------------------------+\n",
      "|state|Year_Month|cases_confirmed|People_at_least_one_dose|\n",
      "+-----+----------+---------------+------------------------+\n",
      "|   MO|   2021-06|    1.5519991E7|             8.0062651E7|\n",
      "|   CT|   2021-12|    1.2745545E7|             9.5547687E7|\n",
      "|   OK|   2021-12|    2.1247195E7|             7.9161288E7|\n",
      "|   SD|   2021-12|      4574287.0|             1.8965388E7|\n",
      "|   CA|   2022-03|    2.6166686E8|           1.006651743E9|\n",
      "|   IA|   2020-08|            0.0|                     0.0|\n",
      "|   SD|   2022-05|            0.0|             2.1071023E7|\n",
      "|   DC|   2020-08|            0.0|                     0.0|\n",
      "|   NC|   2021-01|            0.0|                     0.0|\n",
      "|   CO|   2020-06|            0.0|                     0.0|\n",
      "|   NM|   2022-05|    1.6363592E7|             5.7215841E7|\n",
      "|   CO|   2021-06|    1.5407464E7|             9.7012104E7|\n",
      "|   VT|   2021-04|       471505.0|               8245434.0|\n",
      "|   NJ|   2022-08|    6.9740842E7|            2.53694874E8|\n",
      "|   NH|   2022-02|      8101597.0|             4.0297902E7|\n",
      "|   NJ|   2020-06|            0.0|                     0.0|\n",
      "|   CA|   2020-08|            0.0|                     0.0|\n",
      "|   ME|   2020-12|            0.0|                     0.0|\n",
      "|   GA|   2021-12|    4.0861697E7|            1.97870621E8|\n",
      "|   ND|   2021-09|      3342296.0|             1.1363587E7|\n",
      "+-----+----------+---------------+------------------------+\n",
      "only showing top 20 rows"
     ]
    }
   ],
   "source": [
    "#IMPUTING 0 IN People_at_least_one_dose AS no vaacines were available until then\n",
    "\n",
    "t_ts.createOrReplaceTempView(\"t_ts\")\n",
    "v_ts.createOrReplaceTempView(\"v_ts\")\n",
    "\n",
    "query_c='''\n",
    "select t_ts.state,t_ts.Year_Month,t_ts.cases_confirmed,\n",
    "coalesce(v_ts.People_at_least_one_dose, 0) AS People_at_least_one_dose\n",
    "from t_ts left join v_ts on t_ts.state=v_ts.state and v_ts.Year_Month=t_ts.Year_Month\n",
    "'''\n",
    "df_ts=spark.sql(query_c)\n",
    "df_ts.show()\n",
    "\n"
   ]
  },
  {
   "cell_type": "code",
   "execution_count": null,
   "id": "61298b71",
   "metadata": {
    "colab": {
     "referenced_widgets": [
      ""
     ]
    },
    "id": "61298b71",
    "outputId": "30113dd1-fa2c-4f25-bc21-7dd91819b770"
   },
   "outputs": [
    {
     "data": {
      "application/vnd.jupyter.widget-view+json": {
       "model_id": "",
       "version_major": 2,
       "version_minor": 0
      },
      "text/plain": [
       "FloatProgress(value=0.0, bar_style='info', description='Progress:', layout=Layout(height='25px', width='50%'),…"
      ]
     },
     "metadata": {},
     "output_type": "display_data"
    },
    {
     "name": "stdout",
     "output_type": "stream",
     "text": [
      "+-----+----------+---------------------+------------------+--------------------------+-----------------------+\n",
      "|state|Year_Month|total_confirmed_cases|total_vaccinations|confirmed_cases_pct_change|vaccinations_pct_change|\n",
      "+-----+----------+---------------------+------------------+--------------------------+-----------------------+\n",
      "|   AK|   2020-03|                  0.0|               0.0|                      null|                   null|\n",
      "|   AK|   2020-04|                  0.0|               0.0|                      null|                   null|\n",
      "|   AK|   2020-05|                  0.0|               0.0|                      null|                   null|\n",
      "|   AK|   2020-06|                  0.0|               0.0|                      null|                   null|\n",
      "|   AK|   2020-07|                  0.0|               0.0|                      null|                   null|\n",
      "|   AK|   2020-08|                  0.0|               0.0|                      null|                   null|\n",
      "|   AK|   2020-09|                  0.0|               0.0|                      null|                   null|\n",
      "|   AK|   2020-10|                  0.0|               0.0|                      null|                   null|\n",
      "|   AK|   2020-11|                  0.0|               0.0|                      null|                   null|\n",
      "|   AK|   2020-12|                  0.0|               0.0|                      null|                   null|\n",
      "|   AK|   2021-01|                  0.0|               0.0|                      null|                   null|\n",
      "|   AK|   2021-02|                  0.0|         2165234.0|                      null|                   null|\n",
      "|   AK|   2021-03|                  0.0|         6374797.0|                      null|                   1.94|\n",
      "|   AK|   2021-04|            1460646.0|         8377723.0|                      null|                   0.31|\n",
      "|   AK|   2021-05|            2152331.0|         9927650.0|                      0.47|                   0.19|\n",
      "|   AK|   2021-06|            2123010.0|       1.0397351E7|                     -0.01|                   0.05|\n",
      "|   AK|   2021-07|            2255580.0|       1.1447615E7|                      0.06|                    0.1|\n",
      "|   AK|   2021-08|            2524257.0|       1.1954722E7|                      0.12|                   0.04|\n",
      "|   AK|   2021-09|            2990620.0|       1.2265596E7|                      0.18|                   0.03|\n",
      "|   AK|   2021-10|            3952319.0|       1.3221867E7|                      0.32|                   0.08|\n",
      "+-----+----------+---------------------+------------------+--------------------------+-----------------------+\n",
      "only showing top 20 rows"
     ]
    }
   ],
   "source": [
    "#-- Register the DataFrame as a temporary table\n",
    "df_ts.createOrReplaceTempView(\"temp_table\")\n",
    "\n",
    "\n",
    "#-- Calculate the month-over-month percentage change in confirmed cases and vaccinations by state\n",
    "query='''WITH monthly_data AS (\n",
    "  SELECT\n",
    "    state,\n",
    "    Year_Month,\n",
    "    SUM(cases_confirmed) AS total_confirmed_cases,\n",
    "    SUM(People_at_least_one_dose) AS total_vaccinations\n",
    "  FROM\n",
    "    temp_table\n",
    "  GROUP BY\n",
    "    state,\n",
    "    Year_Month\n",
    "  ORDER BY\n",
    "    state,\n",
    "    Year_Month\n",
    ")\n",
    "SELECT\n",
    "  state,\n",
    "  Year_Month,\n",
    "  total_confirmed_cases,\n",
    "  total_vaccinations,\n",
    "  round((total_confirmed_cases / LAG(total_confirmed_cases, 1) OVER (PARTITION BY state ORDER BY Year_Month) - 1),2) AS confirmed_cases_pct_change,\n",
    "  round((total_vaccinations / LAG(total_vaccinations, 1) OVER (PARTITION BY state ORDER BY Year_Month) - 1),2) AS vaccinations_pct_change\n",
    "FROM\n",
    "  monthly_data'''\n",
    "\n",
    "result=spark.sql(query)\n",
    "result.show()\n",
    "\n"
   ]
  },
  {
   "cell_type": "code",
   "execution_count": null,
   "id": "24529ba4",
   "metadata": {
    "colab": {
     "referenced_widgets": [
      ""
     ]
    },
    "id": "24529ba4",
    "outputId": "e596d13a-bf19-46c1-edad-5fea0522bf7f"
   },
   "outputs": [
    {
     "data": {
      "application/vnd.jupyter.widget-view+json": {
       "model_id": "",
       "version_major": 2,
       "version_minor": 0
      },
      "text/plain": [
       "FloatProgress(value=0.0, bar_style='info', description='Progress:', layout=Layout(height='25px', width='50%'),…"
      ]
     },
     "metadata": {},
     "output_type": "display_data"
    }
   ],
   "source": [
    "df_ts.createOrReplaceTempView(\"df_ts\")\n"
   ]
  },
  {
   "cell_type": "code",
   "execution_count": null,
   "id": "bea63ce6",
   "metadata": {
    "colab": {
     "referenced_widgets": [
      ""
     ]
    },
    "id": "bea63ce6",
    "outputId": "646d35cf-ce3a-46c7-e32f-ec3fbfc98eff"
   },
   "outputs": [
    {
     "data": {
      "application/vnd.jupyter.widget-view+json": {
       "model_id": "",
       "version_major": 2,
       "version_minor": 0
      },
      "text/plain": [
       "FloatProgress(value=0.0, bar_style='info', description='Progress:', layout=Layout(height='25px', width='50%'),…"
      ]
     },
     "metadata": {},
     "output_type": "display_data"
    },
    {
     "name": "stdout",
     "output_type": "stream",
     "text": [
      "Root Mean Squared Error: 4588965.2608789075"
     ]
    }
   ],
   "source": [
    "# import required libraries\n",
    "from pyspark.ml.feature import VectorAssembler\n",
    "from pyspark.ml.regression import LinearRegression\n",
    "from pyspark.ml.evaluation import RegressionEvaluator\n",
    "from pyspark.ml import Pipeline\n",
    "from pyspark.sql.functions import lag\n",
    "\n",
    "# load data into Spark DataFrame\n",
    "df_ts = spark.table(\"df_ts\")\n",
    "\n",
    "# create a lagged version of the target variable (cases_confirmed)\n",
    "df_lagged = df_ts.withColumn(\"lag_1\", lag(\"cases_confirmed\", 1).over(Window.partitionBy(\"state\").orderBy(\"Year_Month\")))\n",
    "\n",
    "# drop any rows with null values\n",
    "df_lagged = df_lagged.dropna()\n",
    "\n",
    "# assemble features into a single vector\n",
    "assembler = VectorAssembler(inputCols=[\"lag_1\", \"People_at_least_one_dose\"], outputCol=\"features\")\n",
    "df_assembled = assembler.transform(df_lagged)\n",
    "\n",
    "# split data into training and testing sets\n",
    "train, test = df_assembled.randomSplit([0.7, 0.3])\n",
    "\n",
    "# define the model\n",
    "model = LinearRegression(featuresCol=\"features\", labelCol=\"cases_confirmed\")\n",
    "\n",
    "# define the pipeline\n",
    "pipeline = Pipeline(stages=[model])\n",
    "\n",
    "# train the model\n",
    "trained_model = pipeline.fit(train)\n",
    "\n",
    "# make predictions on the test data\n",
    "predictions = trained_model.transform(test)\n",
    "\n",
    "# evaluate the model\n",
    "evaluator = RegressionEvaluator(labelCol=\"cases_confirmed\", predictionCol=\"prediction\", metricName=\"rmse\")\n",
    "rmse = evaluator.evaluate(predictions)\n",
    "\n",
    "# print the root mean squared error\n",
    "print(\"Root Mean Squared Error: {}\".format(rmse))\n"
   ]
  },
  {
   "cell_type": "code",
   "execution_count": null,
   "id": "b4bfb6fb",
   "metadata": {
    "id": "b4bfb6fb"
   },
   "outputs": [],
   "source": [
    "#If the target variable is in billions, then a root mean squared error of 4588965.2608789075\n",
    "#(approx. 4.6 million) is relatively small compared to the scale of the target variable.\n",
    "#However, it ultimately depends on the specific context and goals of the analysis, as well as the variability\n",
    "#and magnitude of the data.\n",
    "\n",
    "#This code performs linear regression using the lagged value of the target variable (cases_confirmed)\n",
    "#and the People_at_least_one_dose column as features. It then trains the model on the training data,\n",
    "#makes predictions on the test data, and evaluates the model using the root mean squared error metric."
   ]
  },
  {
   "cell_type": "code",
   "execution_count": null,
   "id": "b4fd64cc",
   "metadata": {
    "id": "b4fd64cc"
   },
   "outputs": [],
   "source": [
    "'''\n",
    "This code is performing a linear regression using the LinearRegression class from pyspark.ml.regression library. The target variable being predicted is \"cases_confirmed\", and the features used for the prediction are the lagged value of \"cases_confirmed\" (i.e., \"lag_1\") and \"People_at_least_one_dose\".\n",
    "\n",
    "The code first creates a new DataFrame (df_lagged) with the lagged value of the target variable. It then drops any rows with null values. The features are assembled into a single vector using the VectorAssembler class from pyspark.ml.feature. The data is split into training and testing sets using the randomSplit method.\n",
    "\n",
    "The linear regression model is defined using the LinearRegression class, and a pipeline is defined using the Pipeline class from pyspark.ml. The pipeline consists of only the linear regression model. The model is then trained on the training data using the fit method of the pipeline object.\n",
    "\n",
    "Predictions are made on the test data using the transform method of the trained model. The RegressionEvaluator class from pyspark.ml.evaluation is used to evaluate the model's performance on the test data. The rmse variable stores the root mean squared error, which is then printed to the console.\n",
    "\n",
    "In summary, this code is performing linear regression on lagged value of \"cases_confirmed\" and \"People_at_least_one_dose\" to predict \"cases_confirmed\" and evaluating the performance of the model using RMSE metric.\n",
    "'''"
   ]
  },
  {
   "cell_type": "code",
   "execution_count": null,
   "id": "9af03818",
   "metadata": {
    "id": "9af03818"
   },
   "outputs": [],
   "source": [
    "'''\n",
    "The root mean squared error (RMSE) is a measure of how well the model is performing in terms of the difference between predicted values and actual values. In this case, the RMSE is 4588965.2608789075.\n",
    "\n",
    "To interpret this result, we can say that on average, the model's predictions are off by approximately 4.6 million cases confirmed. The lower the RMSE, the better the model is performing. However, it is important to keep in mind that the interpretation of the RMSE depends on the specific context of the problem and the magnitude of the target variable.\n",
    "\n",
    "When presenting this result in a presentation, you can explain what the RMSE represents and its value in the context of the problem. You can also compare the RMSE of different models if you have tried more than one. Additionally, you can show some visualizations of the predicted versus actual values to give a more intuitive understanding of the model's performance.\n",
    "'''"
   ]
  },
  {
   "cell_type": "code",
   "execution_count": null,
   "id": "0987526b",
   "metadata": {
    "id": "0987526b"
   },
   "outputs": [],
   "source": [
    "'''\n",
    "In the code, we are predicting the number of confirmed COVID-19 cases using the number of people who have received at least one dose of the vaccine and the lagged value of the number of confirmed cases. We are using linear regression as the predictive model.\n",
    "'''"
   ]
  },
  {
   "cell_type": "code",
   "execution_count": null,
   "id": "ebbd7e4f",
   "metadata": {
    "id": "ebbd7e4f"
   },
   "outputs": [],
   "source": [
    "'''\n",
    "LSTM stands for Long Short-Term Memory. It is a type of artificial neural network used in deep learning for sequential data processing, such as time series data or natural language processing. LSTMs are designed to overcome the vanishing gradient problem of traditional recurrent neural networks (RNNs) by using a more complex cell structure that allows the network to remember information over longer periods of time.\n",
    "'''"
   ]
  },
  {
   "cell_type": "code",
   "execution_count": null,
   "id": "55f246f8",
   "metadata": {
    "id": "55f246f8"
   },
   "outputs": [],
   "source": [
    "'''\n",
    "Lagging is a common technique used in time series analysis to incorporate past values of a variable as features to predict future values. In this code, the lag function is used to create a lagged version of the target variable cases_confirmed with a time lag of 1. This means that for each row, the value of cases_confirmed in the previous time period (i.e., one month before) is added as a new column lag_1.\n",
    "\n",
    "Including lagged values of the target variable as input features to a regression model can improve its accuracy in forecasting future values of the target variable. By doing so, the model is able to take into account the past behavior of the variable and identify trends that can help in predicting its future behavior.\n",
    "'''"
   ]
  }
 ],
 "metadata": {
  "colab": {
   "provenance": []
  },
  "kernelspec": {
   "display_name": "Python 3 (ipykernel)",
   "language": "python",
   "name": "python3"
  },
  "language_info": {
   "codemirror_mode": {
    "name": "ipython",
    "version": 3
   },
   "file_extension": ".py",
   "mimetype": "text/x-python",
   "name": "python",
   "nbconvert_exporter": "python",
   "pygments_lexer": "ipython3",
   "version": "3.9.13"
  }
 },
 "nbformat": 4,
 "nbformat_minor": 5
}
